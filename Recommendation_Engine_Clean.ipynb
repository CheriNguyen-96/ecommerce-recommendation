{
  "cells": [
    {
      "cell_type": "markdown",
      "metadata": {},
      "source": [
        "# \ud83d\udecd\ufe0f Personalized Product Recommendation System\n",
        "This notebook builds a recommendation engine using weighted user interactions (view vs. purchase)."
      ]
    },
    {
      "cell_type": "code",
      "execution_count": null,
      "metadata": {},
      "outputs": [],
      "source": [
        "# 1. Import libraries\n",
        "import pandas as pd\n",
        "import numpy as np\n",
        "import ast\n",
        "from sklearn.preprocessing import LabelEncoder\n",
        "from sklearn.metrics.pairwise import cosine_similarity\n",
        "from scipy.sparse import csr_matrix"
      ]
    },
    {
      "cell_type": "code",
      "execution_count": null,
      "metadata": {},
      "outputs": [],
      "source": [
        "# 2. Load CSV files\n",
        "product_df = pd.read_csv('product_recommendation_data.csv')\n",
        "customer_df = pd.read_csv('customer_data_collection.csv')"
      ]
    },
    {
      "cell_type": "code",
      "execution_count": null,
      "metadata": {},
      "outputs": [],
      "source": [
        "# 3. Clean and transform\n",
        "product_df = product_df.drop(columns=['Unnamed: 13', 'Unnamed: 14'], errors='ignore')\n",
        "customer_df = customer_df.drop(columns=['Unnamed: 10'], errors='ignore')\n",
        "customer_df['Browsing_History'] = customer_df['Browsing_History'].apply(lambda x: ast.literal_eval(x) if isinstance(x, str) else [])\n",
        "customer_df['Purchase_History'] = customer_df['Purchase_History'].apply(lambda x: ast.literal_eval(x) if isinstance(x, str) else [])"
      ]
    },
    {
      "cell_type": "code",
      "execution_count": null,
      "metadata": {},
      "outputs": [],
      "source": [
        "# 4. Build interaction data with weights\n",
        "interactions = []\n",
        "for _, row in customer_df.iterrows():\n",
        "    for product in row['Purchase_History']:\n",
        "        interactions.append({'Customer_ID': row['Customer_ID'], 'Product_ID': product, 'interaction_type': 'purchase'})\n",
        "    for product in row['Browsing_History']:\n",
        "        interactions.append({'Customer_ID': row['Customer_ID'], 'Product_ID': product, 'interaction_type': 'view'})\n",
        "\n",
        "interaction_df = pd.DataFrame(interactions)\n",
        "interaction_df['interaction_value'] = interaction_df['interaction_type'].apply(lambda x: 2 if x == 'purchase' else 1)\n",
        "user_item_df = interaction_df.groupby(['Customer_ID', 'Product_ID'])['interaction_value'].sum().reset_index()"
      ]
    },
    {
      "cell_type": "code",
      "execution_count": null,
      "metadata": {},
      "outputs": [],
      "source": [
        "# 5. Encode IDs and build matrix\n",
        "user_encoder = LabelEncoder()\n",
        "item_encoder = LabelEncoder()\n",
        "user_item_df['user_idx'] = user_encoder.fit_transform(user_item_df['Customer_ID'])\n",
        "user_item_df['item_idx'] = item_encoder.fit_transform(user_item_df['Product_ID'])\n",
        "interaction_matrix = csr_matrix((user_item_df['interaction_value'], (user_item_df['user_idx'], user_item_df['item_idx'])))\n",
        "item_similarity = cosine_similarity(interaction_matrix.T)"
      ]
    },
    {
      "cell_type": "code",
      "execution_count": null,
      "metadata": {},
      "outputs": [],
      "source": [
        "# 6. Define recommendation function\n",
        "def get_top_n_recommendations(user_id, interaction_matrix, similarity_matrix, n=5):\n",
        "    user_idx = user_encoder.transform([user_id])[0]\n",
        "    user_interactions = interaction_matrix[user_idx].toarray().flatten()\n",
        "    scores = similarity_matrix.dot(user_interactions)\n",
        "    known_items = interaction_matrix[user_idx].nonzero()[1]\n",
        "    scores[known_items] = -np.inf\n",
        "    top_items = np.argsort(scores)[-n:][::-1]\n",
        "    return item_encoder.inverse_transform(top_items)"
      ]
    },
    {
      "cell_type": "code",
      "execution_count": null,
      "metadata": {},
      "outputs": [],
      "source": [
        "# 7. Test with one user\n",
        "example_user = user_item_df['Customer_ID'].iloc[0]\n",
        "recommended_products = get_top_n_recommendations(example_user, interaction_matrix, item_similarity, n=5)\n",
        "print(f\"Recommended products for user {example_user}: {recommended_products}\")"
      ]
    },
    {
      "cell_type": "markdown",
      "metadata": {},
      "source": [
        "## \ud83d\udccc Recommendation Model Summary\n",
        "\n",
        "This notebook builds a personalized recommendation engine for an e-commerce platform using customer browsing and purchase data.\n",
        "\n",
        "### \ud83c\udfaf Objective\n",
        "To improve the shopping experience and conversion rate by recommending the most relevant products to users based on their past behavior.\n",
        "\n",
        "### \u2699\ufe0f Modeling Approach\n",
        "- Weighted interactions (purchase = 2, view = 1)\n",
        "- Sparse user-item matrix\n",
        "- Item-item cosine similarity\n",
        "- Recommend Top-N products that are most similar to previously interacted ones\n",
        "\n",
        "### \ud83e\uddea Example Output\n",
        "```python\n",
        "Recommended products for user C1037: ['P042', 'P003', 'P099', 'P054', 'P082']\n",
        "```"
      ]
    }
  ],
  "metadata": {
    "kernelspec": {
      "display_name": "Python 3",
      "language": "python",
      "name": "python3"
    },
    "language_info": {
      "name": "python",
      "version": "3.10"
    }
  },
  "nbformat": 4,
  "nbformat_minor": 2
}